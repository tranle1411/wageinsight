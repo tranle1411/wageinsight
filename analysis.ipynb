{
 "cells": [
  {
   "cell_type": "markdown",
   "metadata": {},
   "source": [
    "# Data Pre-processing"
   ]
  },
  {
   "cell_type": "markdown",
   "metadata": {},
   "source": [
    "### Libraries"
   ]
  },
  {
   "cell_type": "code",
   "execution_count": null,
   "metadata": {},
   "outputs": [],
   "source": [
    "import sqlite3\n",
    "import pandas as pd\n",
    "import numpy as np\n",
    "import matplotlib.pyplot as plt\n",
    "import seaborn as sns\n",
    "from sklearn.preprocessing import StandardScaler\n",
    "from sklearn.linear_model import LinearRegression, Lasso\n",
    "from xgboost import XGBRegressor\n",
    "from sklearn.model_selection import KFold, cross_val_score, GridSearchCV\n",
    "from joblib import dump"
   ]
  },
  {
   "cell_type": "markdown",
   "metadata": {},
   "source": [
    "### Data Loading"
   ]
  },
  {
   "cell_type": "code",
   "execution_count": null,
   "metadata": {},
   "outputs": [],
   "source": [
    "#Connection\n",
    "con = sqlite3.connect(\"CSC498.db\")\n",
    "\n",
    "# Define the SQL query to retrieve data from the table\n",
    "query = \"SELECT * FROM final\"\n",
    "\n",
    "# Use pandas to execute the query and read data into a DataFrame\n",
    "df = pd.read_sql_query(query, con).reset_index(drop=True)\n",
    "\n",
    "# Close the connection\n",
    "con.close()"
   ]
  },
  {
   "cell_type": "code",
   "execution_count": null,
   "metadata": {},
   "outputs": [],
   "source": [
    "# Convert specified columns to numeric values\n",
    "columns_to_convert = ['SEX', 'AGE', 'MARST', 'INCWAGE', 'VETSTAT', 'HISPAN', 'CITIZEN', 'SPEAKENG', 'EDUCYEARS']\n",
    "df[columns_to_convert] = df[columns_to_convert].apply(pd.to_numeric, errors='coerce')"
   ]
  },
  {
   "cell_type": "markdown",
   "metadata": {},
   "source": [
    "### Missing Data"
   ]
  },
  {
   "cell_type": "code",
   "execution_count": null,
   "metadata": {},
   "outputs": [],
   "source": [
    "# Remove rows with missing values\n",
    "df = df.dropna()\n",
    "\n",
    "# Check if the dataset has missing data. If no, move on.\n",
    "missing_values = df.isnull().sum()\n",
    "mising_values = missing_values[missing_values > 0]\n",
    "missing_values"
   ]
  },
  {
   "cell_type": "markdown",
   "metadata": {},
   "source": [
    "# Exploratory Data Analysis (EDA)"
   ]
  },
  {
   "cell_type": "markdown",
   "metadata": {},
   "source": [
    "### Target Variable Distribution"
   ]
  },
  {
   "cell_type": "code",
   "execution_count": null,
   "metadata": {},
   "outputs": [],
   "source": [
    "# Distribution of INCWAGE\n",
    "plt.figure(figsize=(12, 6))\n",
    "sns.histplot(df['INCWAGE'], bins=50, color='purple', kde=True)\n",
    "plt.title('Distribution of Income Wage in the US (2013-2023)')\n",
    "plt.xlabel('Income Wage')\n",
    "plt.ylabel('Density')\n",
    "plt.show()"
   ]
  },
  {
   "cell_type": "code",
   "execution_count": null,
   "metadata": {},
   "outputs": [],
   "source": [
    "# Distribution of sqrt(INCWAGE)\n",
    "plt.figure(figsize=(12, 6))\n",
    "sns.histplot(np.log(df['INCWAGE']), bins=50, color='purple', kde=True)\n",
    "plt.title('Distribution of Ln Income Wage in the US (2013-2023)')\n",
    "plt.xlabel('Ln Income Wage')\n",
    "plt.ylabel('Density')\n",
    "plt.show()"
   ]
  },
  {
   "cell_type": "code",
   "execution_count": null,
   "metadata": {},
   "outputs": [],
   "source": [
    "# Define the columns to plot\n",
    "columns_to_plot = ['SEX', 'MARST', 'VETSTAT', 'HISPAN', 'CITIZEN', 'SPEAKENG']\n",
    "\n",
    "# Create a figure with 5 subplots (2 rows, 3 columns)\n",
    "fig, axs = plt.subplots(2, 3, figsize=(20, 12))\n",
    "\n",
    "# Loop through the columns and create bar plots\n",
    "for i, column in enumerate(columns_to_plot):\n",
    "    # Group data by the column and calculate the count of each category\n",
    "    plot_data = df[column].value_counts().reset_index()\n",
    "    plot_data.columns = [column, 'count']\n",
    "    \n",
    "    # Create bar plot\n",
    "    sns.barplot(x=column, y='count', data=plot_data, ax=axs[i//3, i%3], palette='RdPu')\n",
    "    \n",
    "    # Show numbers on top of each bar\n",
    "    for p in axs[i//3, i%3].patches:\n",
    "        axs[i//3, i%3].annotate(format(p.get_height(), '.0f'), \n",
    "                                (p.get_x() + p.get_width() / 2., p.get_height()), \n",
    "                                ha = 'center', va = 'center', \n",
    "                                xytext = (0, 9), \n",
    "                                textcoords = 'offset points')\n",
    "    \n",
    "    # Set title and labels\n",
    "    axs[i//3, i%3].set_title(f'Distribution of {column}', fontsize=14)\n",
    "    axs[i//3, i%3].set_xlabel(column, fontsize=12)\n",
    "    axs[i//3, i%3].set_ylabel('Count', fontsize=12)\n",
    "\n",
    "# Adjust layout\n",
    "plt.tight_layout()\n",
    "\n",
    "# Show the combined plots\n",
    "plt.show()"
   ]
  },
  {
   "cell_type": "code",
   "execution_count": null,
   "metadata": {},
   "outputs": [],
   "source": [
    "# Group data by gender and calculate median and mean income wage\n",
    "hispan_stats = df.groupby('HISPAN').agg(\n",
    "    median_incwage=('INCWAGE', 'median'), \n",
    "    mean_incwage=('INCWAGE', 'mean')\n",
    ").reset_index()\n",
    "\n",
    "# Rename gender categories\n",
    "hispan_stats['HISPAN'] = hispan_stats['HISPAN'].map({0: 'Non-Hispanic', 1: 'Hispanic'})\n",
    "\n",
    "# Create a combined figure with 2 subplots (1 row, 2 columns)\n",
    "fig, axs = plt.subplots(1, 2, figsize=(8, 6))\n",
    "\n",
    "# Bar chart for Median Income Wage by Gender\n",
    "sns.barplot(x=hispan_stats['HISPAN'], y=hispan_stats['median_incwage'], ax=axs[0], palette='RdPu')\n",
    "axs[0].set_title('Median Income Wage by Hispanic Origin', fontsize=14)\n",
    "axs[0].set_xlabel('Hispanic Origin', fontsize=12)\n",
    "axs[0].set_ylabel('Median Income Wage', fontsize=12)\n",
    "\n",
    "# Bar chart for Average Income Wage by Gender\n",
    "sns.barplot(x=hispan_stats['HISPAN'], y=hispan_stats['mean_incwage'], ax=axs[1], palette='RdPu')\n",
    "axs[1].set_title('Average Income Wage by Hispanic Origin', fontsize=14)\n",
    "axs[1].set_xlabel('Hispanic Origin', fontsize=12)\n",
    "axs[1].set_ylabel('Average Income Wage', fontsize=12)\n",
    "\n",
    "# Adjust layout\n",
    "plt.tight_layout()\n",
    "\n",
    "# Show the combined plots\n",
    "plt.show()"
   ]
  },
  {
   "cell_type": "code",
   "execution_count": null,
   "metadata": {},
   "outputs": [],
   "source": [
    "# Group data by gender and calculate median and mean income wage\n",
    "gender_stats = df.groupby('SEX').agg(\n",
    "    median_incwage=('INCWAGE', 'median'), \n",
    "    mean_incwage=('INCWAGE', 'mean')\n",
    ").reset_index()\n",
    "\n",
    "# Rename gender categories\n",
    "gender_stats['SEX'] = gender_stats['SEX'].map({0: 'Women', 1: 'Men'})\n",
    "\n",
    "# Create a combined figure with 2 subplots (1 row, 2 columns)\n",
    "fig, axs = plt.subplots(1, 2, figsize=(8, 6))\n",
    "\n",
    "# Bar chart for Median Income Wage by Gender\n",
    "sns.barplot(x=gender_stats['SEX'], y=gender_stats['median_incwage'], ax=axs[0], palette='RdPu')\n",
    "axs[0].set_title('Median Income Wage by Gender', fontsize=14)\n",
    "axs[0].set_xlabel('Gender', fontsize=12)\n",
    "axs[0].set_ylabel('Median Income Wage', fontsize=12)\n",
    "\n",
    "# Bar chart for Average Income Wage by Gender\n",
    "sns.barplot(x=gender_stats['SEX'], y=gender_stats['mean_incwage'], ax=axs[1], palette='RdPu')\n",
    "axs[1].set_title('Average Income Wage by Gender', fontsize=14)\n",
    "axs[1].set_xlabel('Gender', fontsize=12)\n",
    "axs[1].set_ylabel('Average Income Wage', fontsize=12)\n",
    "\n",
    "# Adjust layout\n",
    "plt.tight_layout()\n",
    "\n",
    "# Show the combined plots\n",
    "plt.show()"
   ]
  },
  {
   "cell_type": "code",
   "execution_count": null,
   "metadata": {},
   "outputs": [],
   "source": [
    "# Group data by CITIZEN and calculate median and mean income wage\n",
    "citizen_stats = df.groupby('CITIZEN').agg(\n",
    "    median_incwage=('INCWAGE', 'median'), \n",
    "    mean_incwage=('INCWAGE', 'mean')\n",
    ").reset_index()\n",
    "\n",
    "# Rename CITIZEN categories\n",
    "citizen_stats['CITIZEN'] = citizen_stats['CITIZEN'].map({0: 'Non-Citizen', 1: 'Citizen'})\n",
    "\n",
    "# Create a combined figure with 2 subplots (1 row, 2 columns)\n",
    "fig, axs = plt.subplots(1, 2, figsize=(8, 6))\n",
    "\n",
    "# Bar chart for Median Income Wage by Citizenship\n",
    "sns.barplot(x=citizen_stats['CITIZEN'], y=citizen_stats['median_incwage'], ax=axs[0], palette='RdPu')\n",
    "axs[0].set_title('Median Income Wage by Citizenship', fontsize=14)\n",
    "axs[0].set_xlabel('Citizenship Status', fontsize=12)\n",
    "axs[0].set_ylabel('Median Income Wage', fontsize=12)\n",
    "\n",
    "# Bar chart for Average Income Wage by Citizenship\n",
    "sns.barplot(x=citizen_stats['CITIZEN'], y=citizen_stats['mean_incwage'], ax=axs[1], palette='RdPu')\n",
    "axs[1].set_title('Average Income Wage by Citizenship', fontsize=14)\n",
    "axs[1].set_xlabel('Citizenship Status', fontsize=12)\n",
    "axs[1].set_ylabel('Average Income Wage', fontsize=12)\n",
    "\n",
    "# Adjust layout\n",
    "plt.tight_layout()\n",
    "\n",
    "# Show the combined plots\n",
    "plt.show()"
   ]
  },
  {
   "cell_type": "code",
   "execution_count": null,
   "metadata": {},
   "outputs": [],
   "source": [
    "# Group data by English spoken and calculate median and mean income wage\n",
    "eng_stats = df.groupby('SPEAKENG').agg(\n",
    "    median_incwage=('INCWAGE', 'median'), \n",
    "    mean_incwage=('INCWAGE', 'mean')\n",
    ").reset_index()\n",
    "\n",
    "# Rename English spoken categories\n",
    "eng_stats['SPEAKENG'] = eng_stats['SPEAKENG'].map({0: 'Does Not Speak English', 1: 'Speaks English'})\n",
    "\n",
    "# Create a combined figure with 2 subplots (1 row, 2 columns)\n",
    "fig, axs = plt.subplots(1, 2, figsize=(8, 6))\n",
    "\n",
    "# Bar chart for Median Income Wage by English Spoken\n",
    "sns.barplot(x=eng_stats['SPEAKENG'], y=eng_stats['median_incwage'], ax=axs[0], palette='RdPu')\n",
    "axs[0].set_title('Median Income Wage by English Spoken', fontsize=14)\n",
    "axs[0].set_xlabel('English Proficiency', fontsize=12)\n",
    "axs[0].set_ylabel('Median Income Wage', fontsize=12)\n",
    "\n",
    "# Bar chart for Average Income Wage by English Spoken\n",
    "sns.barplot(x=eng_stats['SPEAKENG'], y=eng_stats['mean_incwage'], ax=axs[1], palette='RdPu')\n",
    "axs[1].set_title('Average Income Wage by English Spoken', fontsize=14)\n",
    "axs[1].set_xlabel('English Proficiency', fontsize=12)\n",
    "axs[1].set_ylabel('Average Income Wage', fontsize=12)\n",
    "\n",
    "# Adjust layout\n",
    "plt.tight_layout()\n",
    "\n",
    "# Show the combined plots\n",
    "plt.show()\n"
   ]
  },
  {
   "cell_type": "code",
   "execution_count": null,
   "metadata": {},
   "outputs": [],
   "source": [
    "# Group data by VETSTAT status and calculate median and mean income wage\n",
    "veteran_stats = df.groupby('VETSTAT').agg(\n",
    "    median_incwage=('INCWAGE', 'median'), \n",
    "    mean_incwage=('INCWAGE', 'mean')\n",
    ").reset_index()\n",
    "\n",
    "# Rename VETSTAT status categories\n",
    "veteran_stats['VETSTAT'] = veteran_stats['VETSTAT'].map({0: 'Non-Veteran', 1: 'Veteran'})\n",
    "\n",
    "# Create a combined figure with 2 subplots (1 row, 2 columns)\n",
    "fig, axs = plt.subplots(1, 2, figsize=(8, 6))\n",
    "\n",
    "# Bar chart for Median Income Wage by Veteran Status\n",
    "sns.barplot(x=veteran_stats['VETSTAT'], y=veteran_stats['median_incwage'], ax=axs[0], palette='RdPu')\n",
    "axs[0].set_title('Median Income Wage by Veteran Status', fontsize=14)\n",
    "axs[0].set_xlabel('Veteran Status', fontsize=12)\n",
    "axs[0].set_ylabel('Median Income Wage', fontsize=12)\n",
    "\n",
    "# Bar chart for Average Income Wage by Veteran Status\n",
    "sns.barplot(x=veteran_stats['VETSTAT'], y=veteran_stats['mean_incwage'], ax=axs[1], palette='RdPu')\n",
    "axs[1].set_title('Average Income Wage by Veteran Status', fontsize=14)\n",
    "axs[1].set_xlabel('Veteran Status', fontsize=12)\n",
    "axs[1].set_ylabel('Average Income Wage', fontsize=12)\n",
    "\n",
    "# Adjust layout\n",
    "plt.tight_layout()\n",
    "\n",
    "# Show the combined plots\n",
    "plt.show()\n"
   ]
  },
  {
   "cell_type": "code",
   "execution_count": null,
   "metadata": {},
   "outputs": [],
   "source": [
    "# Group data by marriage status and calculate median and mean income wage\n",
    "marriage_stats = df.groupby('MARST').agg(\n",
    "    median_incwage=('INCWAGE', 'median'), \n",
    "    mean_incwage=('INCWAGE', 'mean')\n",
    ").reset_index()\n",
    "\n",
    "# Rename marriage status categories\n",
    "marriage_stats['MARST'] = marriage_stats['MARST'].map({0: 'Not Married', 1: 'Married'})\n",
    "\n",
    "# Create a combined figure with 2 subplots (1 row, 2 columns)\n",
    "fig, axs = plt.subplots(1, 2, figsize=(8, 6))\n",
    "\n",
    "# Bar chart for Median Income Wage by Marriage Status\n",
    "sns.barplot(x=marriage_stats['MARST'], y=marriage_stats['median_incwage'], ax=axs[0], palette='RdPu')\n",
    "axs[0].set_title('Median Income Wage by Marriage Status', fontsize=14)\n",
    "axs[0].set_xlabel('Marriage Status', fontsize=12)\n",
    "axs[0].set_ylabel('Median Income Wage', fontsize=12)\n",
    "\n",
    "# Bar chart for Average Income Wage by Marriage Status\n",
    "sns.barplot(x=marriage_stats['MARST'], y=marriage_stats['mean_incwage'], ax=axs[1], palette='RdPu')\n",
    "axs[1].set_title('Average Income Wage by Marriage Status', fontsize=14)\n",
    "axs[1].set_xlabel('Marriage Status', fontsize=12)\n",
    "axs[1].set_ylabel('Average Income Wage', fontsize=12)\n",
    "\n",
    "# Adjust layout\n",
    "plt.tight_layout()\n",
    "\n",
    "# Show the combined plots\n",
    "plt.show()"
   ]
  },
  {
   "cell_type": "code",
   "execution_count": null,
   "metadata": {},
   "outputs": [],
   "source": [
    "# Group by RACE and calculate mean income wage\n",
    "race_stats = df.groupby('RACE')['INCWAGE'].mean().reset_index()\n",
    "\n",
    "# Sort values from high to low\n",
    "race_stats = race_stats.sort_values(by='INCWAGE', ascending=True)\n",
    "\n",
    "# Create bar chart\n",
    "plt.figure(figsize=(10, 6))\n",
    "sns.barplot(x='RACE', y='INCWAGE', data=race_stats, palette='RdPu')\n",
    "\n",
    "# Labels and title\n",
    "plt.xlabel('Race', fontsize=12)\n",
    "plt.ylabel('Average Income Wage', fontsize=12)\n",
    "plt.title('Average Income Wage by Race', fontsize=14)\n",
    "\n",
    "# Show plot\n",
    "plt.show()"
   ]
  },
  {
   "cell_type": "code",
   "execution_count": null,
   "metadata": {},
   "outputs": [],
   "source": [
    "# Group data by education level and calculate median income wage\n",
    "educ_stats = df.groupby('EDUC')['INCWAGE'].median().reset_index()\n",
    "\n",
    "# Sort values from highest to lowest\n",
    "educ_stats = educ_stats.sort_values(by='INCWAGE', ascending=True)\n",
    "\n",
    "# Create bar chart\n",
    "plt.figure(figsize=(12, 6))\n",
    "sns.barplot(x='EDUC', y='INCWAGE', data=educ_stats, palette='RdPu')\n",
    "\n",
    "# Customize labels and title\n",
    "plt.title('Median Income Wage by Educational Attainment', fontsize=14)\n",
    "plt.xlabel('Education Level', fontsize=12)\n",
    "plt.ylabel('Median Income Wage', fontsize=12)\n",
    "\n",
    "# Rotate x labels for readability\n",
    "plt.xticks(rotation=45)\n",
    "\n",
    "# Show plot\n",
    "plt.show()"
   ]
  },
  {
   "cell_type": "code",
   "execution_count": null,
   "metadata": {},
   "outputs": [],
   "source": [
    "# Group by AGE and calculate mean income wage\n",
    "age_stats = df.groupby('AGE', as_index=False)['INCWAGE'].mean()\n",
    "\n",
    "# Calculate the natural sqrt of INCWAGE and add it to the dataset\n",
    "age_stats['ln_incwage'] = np.log(age_stats['INCWAGE'])\n",
    "\n",
    "# Create the figure with two subplots (1 row, 2 columns)\n",
    "fig, axs = plt.subplots(1, 2, figsize=(14, 6))\n",
    "\n",
    "# First scatter plot: Mean Income Wage by Age\n",
    "sns.regplot(x='AGE', y='INCWAGE', data=age_stats, ax=axs[0], color='purple')\n",
    "axs[0].set_xlabel('Age', fontsize=12)\n",
    "axs[0].set_ylabel('Mean Income Wage', fontsize=12)\n",
    "axs[0].set_title('Scatter Plot of Mean Income Wage by Age', fontsize=14)\n",
    "axs[0].grid()\n",
    "\n",
    "# Second scatter plot: Mean ln(Income Wage) by Age\n",
    "sns.regplot(x='AGE', y='ln_incwage', data=age_stats, ax=axs[1], color='purple')\n",
    "axs[1].set_xlabel('Age', fontsize=12)\n",
    "axs[1].set_ylabel('Mean Ln(Income Wage)', fontsize=12)\n",
    "axs[1].set_title('Scatter Plot of Mean Ln(Income Wage) by Age', fontsize=14)\n",
    "axs[1].set_ylim(0, 20)\n",
    "axs[1].grid()\n",
    "\n",
    "# Adjust layout\n",
    "plt.tight_layout()\n",
    "\n",
    "# Show the combined plots\n",
    "plt.show()\n"
   ]
  },
  {
   "cell_type": "code",
   "execution_count": null,
   "metadata": {},
   "outputs": [],
   "source": [
    "# Group by DEGFIELD1 and calculate mean income wage\n",
    "degfield_stats = df.groupby('DEGFIELD1')['INCWAGE'].median().reset_index()\n",
    "\n",
    "# Sort values from high to low and select top 10\n",
    "top_10_degfield = degfield_stats.sort_values(by='INCWAGE', ascending=False).head(10)\n",
    "\n",
    "# Create bar chart\n",
    "plt.figure(figsize=(12, 6))\n",
    "sns.barplot(x='INCWAGE', y='DEGFIELD1', data=top_10_degfield, palette='RdPu_r')\n",
    "\n",
    "# Customize labels and title\n",
    "plt.title('Top 10 Degree Fields with Highest Median Income Wage', fontsize=14)\n",
    "plt.xlabel('Average Income Wage', fontsize=12)\n",
    "plt.ylabel('Degree Field', fontsize=12)\n",
    "\n",
    "# Show plot\n",
    "plt.show()"
   ]
  },
  {
   "cell_type": "code",
   "execution_count": null,
   "metadata": {},
   "outputs": [],
   "source": [
    "# Group by DEGFIELD1 and calculate mean income wage\n",
    "degfield_stats = df.groupby('OCC')['INCWAGE'].median().reset_index()\n",
    "\n",
    "# Sort values from high to low and select top 10\n",
    "top_10_degfield = degfield_stats.sort_values(by='INCWAGE', ascending=False).head(10)\n",
    "\n",
    "# Create bar chart\n",
    "plt.figure(figsize=(12, 6))\n",
    "sns.barplot(x='INCWAGE', y='OCC', data=top_10_degfield, palette='RdPu_r')\n",
    "\n",
    "# Customize labels and title\n",
    "plt.title('Top 10 Occupation with Highest Median Income Wage', fontsize=14)\n",
    "plt.xlabel('Median Income Wage', fontsize=12)\n",
    "plt.ylabel('Occupation', fontsize=12)\n",
    "\n",
    "# Show plot\n",
    "plt.show()"
   ]
  },
  {
   "cell_type": "markdown",
   "metadata": {},
   "source": [
    "# Feature Engineering"
   ]
  },
  {
   "cell_type": "code",
   "execution_count": null,
   "metadata": {},
   "outputs": [],
   "source": [
    "# Display all columns with object data type\n",
    "object_columns = df.select_dtypes(include=['object']).columns\n",
    "\n",
    "df[object_columns] = df[object_columns].astype('category')\n",
    "df[object_columns].dtypes"
   ]
  },
  {
   "cell_type": "code",
   "execution_count": null,
   "metadata": {},
   "outputs": [],
   "source": [
    "df['LN_INCWAGE'] = np.log(df['INCWAGE'])\n",
    "\n",
    "# Define the feature matrix X and the target vector y\n",
    "X = df.drop(columns=['INCWAGE', 'LN_INCWAGE', 'EDUCYEARS'] + list(object_columns))\n",
    "y = df['LN_INCWAGE']"
   ]
  },
  {
   "cell_type": "code",
   "execution_count": null,
   "metadata": {},
   "outputs": [],
   "source": [
    "# Perform target encoding with smoothing\n",
    "def target_encode_with_smoothing(column, smoothing=1.0):\n",
    "    mean_encoded = df.groupby(column)['LN_INCWAGE'].mean()\n",
    "    global_mean = df['LN_INCWAGE'].mean()\n",
    "    # Smoothing formula: Weighted average between global mean and category mean\n",
    "    count = df[column].value_counts()\n",
    "    smoothed_values = (count * mean_encoded + smoothing * global_mean) / (count + smoothing)\n",
    "    return df[column].map(smoothed_values).astype('float64')\n",
    "\n",
    "# Apply target encoding with smoothing\n",
    "for column in object_columns:\n",
    "    X[column] = target_encode_with_smoothing(column)\n",
    "\n",
    "len(X.columns)"
   ]
  },
  {
   "cell_type": "code",
   "execution_count": null,
   "metadata": {},
   "outputs": [],
   "source": [
    "# Function to calculate target encode values for a categorical variable\n",
    "def calculate_target_encode(column):\n",
    "    mean_encoded = df.groupby(column)['LN_INCWAGE'].mean()\n",
    "    return mean_encoded.reset_index().rename(columns={column: 'Category', 'LN_INCWAGE': 'Target Encode Value'})\n",
    "\n",
    "# List of categorical variables\n",
    "categorical_variables = ['EDUC', 'DEGFIELD1', 'DEGFIELD2', 'OCC', 'IND', 'RACE', 'WORKSTATE']\n",
    "\n",
    "# Create a dictionary to store the tables\n",
    "target_encode_tables = {}\n",
    "\n",
    "# Generate tables for each categorical variable\n",
    "for var in categorical_variables:\n",
    "    if var not in target_encode_tables:  # Check if the table for this variable is already calculated\n",
    "        target_encode_tables[var] = calculate_target_encode(var)\n",
    "\n",
    "# Display the tables\n",
    "for var, table in target_encode_tables.items():\n",
    "    print(f\"Target Encode Table for {var}:\")\n",
    "    print(table)\n",
    "    print(\"\\n\")"
   ]
  },
  {
   "cell_type": "code",
   "execution_count": null,
   "metadata": {},
   "outputs": [],
   "source": [
    "import os\n",
    "\n",
    "# Create the directory if it doesn't exist\n",
    "output_dir = os.path.join(\"database\", \"encode\")\n",
    "os.makedirs(output_dir, exist_ok=True)\n",
    "\n",
    "# Export each encoded table to a CSV file\n",
    "for var, table in target_encode_tables.items():\n",
    "    output_path = os.path.join(output_dir, f\"{var}_encoded.csv\")\n",
    "    table.to_csv(output_path, index=False)\n",
    "    print(f\"Exported {var} encoded table to {output_path}\")"
   ]
  },
  {
   "cell_type": "code",
   "execution_count": null,
   "metadata": {},
   "outputs": [],
   "source": [
    "# Combine X and y into a single DataFrame for visualization\n",
    "data = X.copy()\n",
    "data['LN_INCWAGE'] = y\n",
    "\n",
    "# Create a correlation matrix\n",
    "corr_matrix = data.corr()\n",
    "\n",
    "# Plot the heatmap\n",
    "plt.figure(figsize=(12, 10))\n",
    "sns.heatmap(corr_matrix, annot=True, cmap='coolwarm', fmt='.2f')\n",
    "plt.title('Correlation Heatmap of Features and Target')\n",
    "plt.show()"
   ]
  },
  {
   "cell_type": "markdown",
   "metadata": {},
   "source": [
    "# Regressors"
   ]
  },
  {
   "cell_type": "code",
   "execution_count": null,
   "metadata": {},
   "outputs": [],
   "source": [
    "# Define KFold cross-validation\n",
    "kf = KFold(n_splits=3, shuffle=True, random_state=42)\n",
    "\n",
    "# Hyperparameter tuning for Lasso\n",
    "lasso_param_grid = {\n",
    "    'alpha': [0.0001, 0.001, 0.01, 0.1, 1, 10]\n",
    "}\n",
    "lasso_grid_search = GridSearchCV(Lasso(),\n",
    "                                 lasso_param_grid, cv=kf, scoring='neg_mean_squared_error', n_jobs=-1)\n",
    "\n",
    "# Hyperparameter tuning for XGBoost (Expanded Grid)\n",
    "xgb_param_grid = {\n",
    "    'learning_rate': [0.05, 0.1, 0.2],\n",
    "    'n_estimators': [100, 200, 300],\n",
    "    'max_depth': [8, 10, 12],\n",
    "    'subsample': [0.8, 1.0],\n",
    "    'colsample_bytree': [0.4, 0.6, 0.8]\n",
    "}\n",
    "xgb_grid_search = GridSearchCV(XGBRegressor(objective='reg:squarederror', random_state=42),\n",
    "                               xgb_param_grid, cv=kf, scoring='neg_mean_squared_error', n_jobs=-1)"
   ]
  },
  {
   "cell_type": "code",
   "execution_count": null,
   "metadata": {},
   "outputs": [],
   "source": [
    "# Scale X for Lasso\n",
    "scaler = StandardScaler()\n",
    "X_scaled = scaler.fit_transform(X)\n",
    "\n",
    "# # Define models with default parameters\n",
    "ols = LinearRegression()\n",
    "lasso = Lasso(random_state=42)\n",
    "xgb = XGBRegressor(objective='reg:squarederror', random_state=42)"
   ]
  },
  {
   "cell_type": "code",
   "execution_count": null,
   "metadata": {},
   "outputs": [],
   "source": [
    "lasso_grid_search.fit(X_scaled, y)\n",
    "best_lasso = lasso_grid_search.best_estimator_\n",
    "# Best tuning parameters for Lasso\n",
    "print(\"\\nBest Lasso Parameters:\")\n",
    "print(lasso_grid_search.best_params_)\n",
    "\n",
    "xgb_grid_search.fit(X, y) # This process is time and space expensive. Use the result below if you don't want to run this line\n",
    "best_xgb = xgb_grid_search.best_estimator_\n",
    "# Best tuning parameters for XGBoost\n",
    "print(\"\\nBest XGBoost Parameters:\")\n",
    "print(xgb_grid_search.best_params_)"
   ]
  },
  {
   "cell_type": "markdown",
   "metadata": {},
   "source": [
    "Best params are:\n",
    "\n",
    "Lasso:\n",
    "alpha=0.001\n",
    "\n",
    "XGBoost:\n",
    "learning_rate=0.1, n_estimators=200, max_depth=10, subsample=1.0, colsample_bytree=0.6"
   ]
  },
  {
   "cell_type": "markdown",
   "metadata": {},
   "source": [
    "# Evaluation"
   ]
  },
  {
   "cell_type": "code",
   "execution_count": null,
   "metadata": {},
   "outputs": [],
   "source": [
    "# Define KFold cross-validation\n",
    "kf = KFold(n_splits=10, shuffle=True, random_state=42)\n",
    "\n",
    "# Function to evaluate models\n",
    "def evaluate(model, X, y, model_name):\n",
    "    rmse_scores = cross_val_score(model, X, y, cv=kf, scoring='neg_root_mean_squared_error').mean() * -1\n",
    "    r2_scores = cross_val_score(model, X, y, cv=kf, scoring='r2').mean()\n",
    "\n",
    "    print(f\"\\n{model_name} Performance (10-Fold CV):\")\n",
    "    print(f\"RMSE: {rmse_scores:.4f}\")\n",
    "    print(f\"R² Score: {r2_scores:.4f}\")"
   ]
  },
  {
   "cell_type": "code",
   "execution_count": null,
   "metadata": {},
   "outputs": [],
   "source": [
    "# # Evaluate best models before tuning\n",
    "print(\"\\nEvaluating Models Before Hyperparameter Tuning:\")\n",
    "evaluate(ols, X, y, \"OLS\")\n",
    "evaluate(lasso, X_scaled, y, \"Lasso\")\n",
    "evaluate(xgb, X, y, \"XGBoost\")"
   ]
  },
  {
   "cell_type": "code",
   "execution_count": null,
   "metadata": {},
   "outputs": [],
   "source": [
    "# Evaluate best models before tuning\n",
    "print(\"\\nEvaluating Models After Hyperparameter Tuning:\")\n",
    "evaluate(best_lasso, X_scaled, y, \"Lasso\")\n",
    "evaluate(best_xgb, X, y, \"XGBoost\")"
   ]
  }
 ],
 "metadata": {
  "kernelspec": {
   "display_name": ".venv",
   "language": "python",
   "name": "python3"
  },
  "language_info": {
   "codemirror_mode": {
    "name": "ipython",
    "version": 3
   },
   "file_extension": ".py",
   "mimetype": "text/x-python",
   "name": "python",
   "nbconvert_exporter": "python",
   "pygments_lexer": "ipython3",
   "version": "3.10.11"
  }
 },
 "nbformat": 4,
 "nbformat_minor": 2
}
